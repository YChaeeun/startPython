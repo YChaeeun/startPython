{
 "cells": [
  {
   "cell_type": "markdown",
   "metadata": {},
   "source": [
    "## 상속 Inherit\n",
    "\n",
    "다수의 클래스를 만들 때, 중복되는 부분이 있다면 중복되는 부분을 만들고, 이를 상속 시킬 수 있다.\n",
    "\n",
    "전체 코드에서 중복된 부분을 최소화하여 유지보수를 용이하게 하도록 돕는다\n",
    "\n",
    "> 물려주는 쪽 : 부모 클래스, 슈퍼 클래스 (Super Class)\n",
    "\n",
    "> 상속받는 쪽 : 자식 클래스, SubClass"
   ]
  },
  {
   "cell_type": "code",
   "execution_count": 2,
   "metadata": {},
   "outputs": [],
   "source": [
    "# 동물들이 공통적으로 가지고 있는 특성\n",
    "class Animal:\n",
    "    def sleep(self) :\n",
    "        print('잠을 잔다')\n",
    "    def eat(self) :\n",
    "        print('먹는다')"
   ]
  },
  {
   "cell_type": "code",
   "execution_count": 9,
   "metadata": {},
   "outputs": [],
   "source": [
    "# 강아지와 고양이 _ Animal 클래스를 상속받는다\n",
    "# 상속은 한번에 한 개의 클래스만 가능하고, 부모클래스에 있는 모든 내용을 상속받는다\n",
    "class Dog(Animal) :\n",
    "    def bark(self) :\n",
    "        print('짖는다')\n",
    "        \n",
    "class Cat(Animal) :\n",
    "    def jump_high(self) :\n",
    "        print('높이 뛸 수 있다')\n",
    "        \n",
    "    # 부모클래스에 있던 메소드를 다시 바꿔 사용할 수 있다\n",
    "    def sleep(self) :\n",
    "        print('많이많이많이 잔다')"
   ]
  },
  {
   "cell_type": "code",
   "execution_count": 10,
   "metadata": {},
   "outputs": [
    {
     "name": "stdout",
     "output_type": "stream",
     "text": [
      "강아지는...\n",
      "잠을 잔다\n",
      "먹는다\n",
      "짖는다\n",
      "\n",
      "고양이는...\n",
      "많이많이많이 잔다\n",
      "먹는다\n",
      "높이 뛸 수 있다\n"
     ]
    }
   ],
   "source": [
    "d = Dog()\n",
    "c = Cat()\n",
    "\n",
    "print('강아지는...')\n",
    "d.sleep()\n",
    "d.eat()\n",
    "d.bark()\n",
    "print('\\n고양이는...')\n",
    "c.sleep()\n",
    "c.eat()\n",
    "c.jump_high()"
   ]
  },
  {
   "cell_type": "code",
   "execution_count": 11,
   "metadata": {},
   "outputs": [],
   "source": [
    "class Scotish(Cat) :\n",
    "    def cute(self) :\n",
    "        print('아주아주 귀엽다...')"
   ]
  },
  {
   "cell_type": "code",
   "execution_count": 13,
   "metadata": {},
   "outputs": [
    {
     "name": "stdout",
     "output_type": "stream",
     "text": [
      "많이많이많이 잔다\n",
      "먹는다\n",
      "높이 뛸 수 있다\n",
      "아주아주 귀엽다...\n"
     ]
    }
   ],
   "source": [
    "c2 = Scotish()\n",
    "\n",
    "# Cat을 상속해왔으므로 자동으로 Animal도 상속 받아옴\n",
    "c2.sleep()\n",
    "c2.eat()\n",
    "c2.jump_high()\n",
    "c2.cute()"
   ]
  }
 ],
 "metadata": {
  "kernelspec": {
   "display_name": "Python 3",
   "language": "python",
   "name": "python3"
  },
  "language_info": {
   "codemirror_mode": {
    "name": "ipython",
    "version": 3
   },
   "file_extension": ".py",
   "mimetype": "text/x-python",
   "name": "python",
   "nbconvert_exporter": "python",
   "pygments_lexer": "ipython3",
   "version": "3.7.1"
  }
 },
 "nbformat": 4,
 "nbformat_minor": 2
}
