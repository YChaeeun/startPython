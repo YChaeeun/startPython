{
 "cells": [
  {
   "cell_type": "markdown",
   "metadata": {},
   "source": [
    "## 객체 지향 프로그래밍\n",
    "\n",
    "+ 매개체 하나에 대한 정보(변수)와 기능(함수)를 하나로 묶어서 관리하는 개념\n",
    "    - 객체 : 매개체 하나 (파이썬에서 모든 데이터들은 다 객체임 ex. 리스트, 함수, 정수, 실수, 문자열 등등)\n",
    "    - 클래스 : 객체를 만들기 위한 설계도"
   ]
  },
  {
   "cell_type": "code",
   "execution_count": 2,
   "metadata": {},
   "outputs": [],
   "source": [
    "# 기본 클래스\n",
    "# 함수와 구별하기 위해 시작을 대문자로 작성\n",
    "class TestClass:\n",
    "    pass"
   ]
  },
  {
   "cell_type": "code",
   "execution_count": 3,
   "metadata": {},
   "outputs": [
    {
     "data": {
      "text/plain": [
       "<__main__.TestClass at 0x2661120c0f0>"
      ]
     },
     "execution_count": 3,
     "metadata": {},
     "output_type": "execute_result"
    }
   ],
   "source": [
    "# 객체 생성\n",
    "t1 = TestClass()\n",
    "t1"
   ]
  },
  {
   "cell_type": "code",
   "execution_count": 4,
   "metadata": {},
   "outputs": [
    {
     "data": {
      "text/plain": [
       "(<__main__.TestClass at 0x2661120c5f8>, <__main__.TestClass at 0x2661120c5c0>)"
      ]
     },
     "execution_count": 4,
     "metadata": {},
     "output_type": "execute_result"
    }
   ],
   "source": [
    "# 서로 다른 객체 생성\n",
    "# 같은 클래스를 불러왔어도 각 객체들은 서로 다름 (서로 다른 주소값을 반환)\n",
    "t2 = TestClass()\n",
    "t3 = TestClass()\n",
    "t2, t3"
   ]
  },
  {
   "cell_type": "code",
   "execution_count": 5,
   "metadata": {},
   "outputs": [
    {
     "data": {
      "text/plain": [
       "(<__main__.TestClass at 0x2661120c7b8>,\n",
       " <__main__.TestClass at 0x2661120c7b8>,\n",
       " <__main__.TestClass at 0x2661120c7b8>)"
      ]
     },
     "execution_count": 5,
     "metadata": {},
     "output_type": "execute_result"
    }
   ],
   "source": [
    "# 생성된 객체를 다른 변수에 담는 것은 전체를 복사하는 것이기 때문에 주소값이 같음\n",
    "t4 = TestClass()\n",
    "t5 = t4\n",
    "t6 = t5\n",
    "t4, t5, t6"
   ]
  },
  {
   "cell_type": "markdown",
   "metadata": {},
   "source": [
    "## 객체의 멤버\n",
    "\n",
    "#### + 멤버변수 : 객체가 가지고 있는 변수\n",
    "    - 객체마다 따로 생성되며, 따로 관리됨"
   ]
  },
  {
   "cell_type": "code",
   "execution_count": 6,
   "metadata": {},
   "outputs": [
    {
     "data": {
      "text/plain": [
       "10"
      ]
     },
     "execution_count": 6,
     "metadata": {},
     "output_type": "execute_result"
    }
   ],
   "source": [
    "# 멤버변수\n",
    "\n",
    "t1 = TestClass()\n",
    "t2 = TestClass()\n",
    "\n",
    "# 멤버변수를 추가할 수 있다\n",
    "t1.a1 = 10\n",
    "print(t1.a1)"
   ]
  },
  {
   "cell_type": "code",
   "execution_count": 7,
   "metadata": {},
   "outputs": [
    {
     "ename": "AttributeError",
     "evalue": "'TestClass' object has no attribute 'a1'",
     "output_type": "error",
     "traceback": [
      "\u001b[1;31m---------------------------------------------------------------------------\u001b[0m",
      "\u001b[1;31mAttributeError\u001b[0m                            Traceback (most recent call last)",
      "\u001b[1;32m<ipython-input-7-0cf73c78ddcd>\u001b[0m in \u001b[0;36m<module>\u001b[1;34m\u001b[0m\n\u001b[0;32m      1\u001b[0m \u001b[1;31m# 이때 a1 은 t1 의 멤버변수이고, t2 와는 상관이 없는 변수\u001b[0m\u001b[1;33m\u001b[0m\u001b[1;33m\u001b[0m\u001b[1;33m\u001b[0m\u001b[0m\n\u001b[0;32m      2\u001b[0m \u001b[1;31m# 그렇기 때문에 t2.a1 을 호출하려고 하면 에러가 난다\u001b[0m\u001b[1;33m\u001b[0m\u001b[1;33m\u001b[0m\u001b[1;33m\u001b[0m\u001b[0m\n\u001b[1;32m----> 3\u001b[1;33m \u001b[0mt2\u001b[0m\u001b[1;33m.\u001b[0m\u001b[0ma1\u001b[0m\u001b[1;33m\u001b[0m\u001b[1;33m\u001b[0m\u001b[0m\n\u001b[0m",
      "\u001b[1;31mAttributeError\u001b[0m: 'TestClass' object has no attribute 'a1'"
     ]
    }
   ],
   "source": [
    "# 이때 a1 은 t1 의 멤버변수이고, t2 와는 상관이 없는 변수\n",
    "# 그렇기 때문에 t2.a1 을 호출하려고 하면 에러가 난다\n",
    "t2.a1"
   ]
  },
  {
   "cell_type": "markdown",
   "metadata": {},
   "source": [
    "#### + 멤버함수 (메소드) : 객체가 가지고 있는 함수\n",
    "     - 모든 객체들은 클래스에 있는 함수의 주소값을 가져온다 (함수의 코드는 실행 중에는 변경 불가)\n"
   ]
  },
  {
   "cell_type": "code",
   "execution_count": 9,
   "metadata": {},
   "outputs": [],
   "source": [
    "# 멤버 함수\n",
    "\n",
    "class TestClass2 :\n",
    "    # 클래스 안에 함수를 만드려면, 이 함수를 호출한 객체의 주소를 꼭 받아야 함 (self)\n",
    "    def method1(self) :\n",
    "        print('TestClass2의 method1')\n",
    "    \n",
    "    def add_member(self, a1, a2) :\n",
    "        self.v1 = a1\n",
    "        self.v2 = a2"
   ]
  },
  {
   "cell_type": "code",
   "execution_count": 14,
   "metadata": {},
   "outputs": [
    {
     "name": "stdout",
     "output_type": "stream",
     "text": [
      "TestClass2의 method1\n"
     ]
    }
   ],
   "source": [
    "t1 = TestClass2()\n",
    "t2 = TestClass2()\n",
    "t1.method1()"
   ]
  },
  {
   "cell_type": "code",
   "execution_count": 16,
   "metadata": {},
   "outputs": [
    {
     "data": {
      "text/plain": [
       "(10, 12, 100, 200)"
      ]
     },
     "execution_count": 16,
     "metadata": {},
     "output_type": "execute_result"
    }
   ],
   "source": [
    "t1.add_member(10, 12)\n",
    "t2.add_member(100, 200)\n",
    "t1.v1, t1.v2, t2.v1, t2.v2"
   ]
  },
  {
   "cell_type": "markdown",
   "metadata": {},
   "source": [
    "## __init__\n",
    "\n",
    "+ 클래스를 가지고 만들어지는 모든 객체가 동일한 변수를 가지고 시작할 수 있도록 클래스 안에 멤버 변수를 정의해 준다\n",
    "+ 해당 조건을 만족하지 못하면 객체를 생성할 수 없게 만듬! (init은 무.조.건 실행됨)"
   ]
  },
  {
   "cell_type": "code",
   "execution_count": 18,
   "metadata": {},
   "outputs": [],
   "source": [
    "class TestClass3 :\n",
    "    # 객체가 생성되었을 때 동일하게 가지고 있어야 하는 멤버변수\n",
    "    # 생성 이후 값을 달리 줘서 값을 변경할 수 있음\n",
    "    a1 = 10\n",
    "    a2 = 20\n",
    "    \n",
    "    def __init__(self,v1, v2) :\n",
    "        # 해당 값들을 넘겨주지 않으면 객체를 생성할 수 없음\n",
    "        self.a3 = v1\n",
    "        self.a4 = v2"
   ]
  },
  {
   "cell_type": "code",
   "execution_count": 25,
   "metadata": {},
   "outputs": [
    {
     "name": "stdout",
     "output_type": "stream",
     "text": [
      "10,20,30,40\n",
      "100\n"
     ]
    }
   ],
   "source": [
    "t1 = TestClass3(30, 40)\n",
    "print(t1.a1, t1.a2, t1.a3, t1.a4, sep=',')\n",
    "\n",
    "# 값을 달리줘서 값을 변경할 수 있음\n",
    "# 단 해당 객체 t1 값만 변경 한 거임!!\n",
    "t1.a1 = 100\n",
    "print(t1.a1)"
   ]
  },
  {
   "cell_type": "code",
   "execution_count": 28,
   "metadata": {},
   "outputs": [
    {
     "name": "stdout",
     "output_type": "stream",
     "text": [
      "10,20,100,200\n"
     ]
    }
   ],
   "source": [
    "t2 = TestClass3(100, 200)\n",
    "print(t2.a1, t2.a2, t2.a3, t2.a4, sep=',')"
   ]
  }
 ],
 "metadata": {
  "kernelspec": {
   "display_name": "Python 3",
   "language": "python",
   "name": "python3"
  },
  "language_info": {
   "codemirror_mode": {
    "name": "ipython",
    "version": 3
   },
   "file_extension": ".py",
   "mimetype": "text/x-python",
   "name": "python",
   "nbconvert_exporter": "python",
   "pygments_lexer": "ipython3",
   "version": "3.7.1"
  }
 },
 "nbformat": 4,
 "nbformat_minor": 2
}
