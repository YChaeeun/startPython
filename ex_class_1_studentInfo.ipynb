{
 "cells": [
  {
   "cell_type": "markdown",
   "metadata": {},
   "source": [
    "## 객체지향프로그래밍 예제\n",
    "\n",
    "학생정보관리 프로그램"
   ]
  },
  {
   "cell_type": "code",
   "execution_count": 9,
   "metadata": {},
   "outputs": [],
   "source": [
    "class Student :\n",
    "    def __init__(self, name, age, score) :\n",
    "        self.name = name\n",
    "        self.age = age\n",
    "        self.score = score\n",
    "        \n",
    "    def print_info(self) :\n",
    "        print(self.name, self.age, self.score, sep=\" \")\n",
    "        print()\n",
    "        \n",
    "def input_info() :\n",
    "    student_list = []\n",
    "    while True :\n",
    "        name = input('이름을 입력하세요 : ')\n",
    "        if name == '종료' :\n",
    "            break\n",
    "        age, score = map(int, input('나이와 성적을 입력하세요 : ').split())\n",
    "        print(age+score)\n",
    "        \n",
    "        s1 = Student(name, age, score)\n",
    "        student_list.append(s1)\n",
    "        \n",
    "    return student_list\n",
    "\n",
    "def show_info(student_list):\n",
    "    for idx in student_list :\n",
    "        idx.print_info()"
   ]
  },
  {
   "cell_type": "code",
   "execution_count": 10,
   "metadata": {},
   "outputs": [
    {
     "name": "stdout",
     "output_type": "stream",
     "text": [
      "이름을 입력하세요 : 안녕\n",
      "나이와 성적을 입력하세요 : 12 34\n",
      "46\n",
      "이름을 입력하세요 : whd\n",
      "나이와 성적을 입력하세요 : 1 12\n",
      "13\n",
      "이름을 입력하세요 : 종료\n",
      "안녕 12 34\n",
      "whd 1 12\n"
     ]
    }
   ],
   "source": [
    "sList = input_info()\n",
    "show_info(sList)"
   ]
  }
 ],
 "metadata": {
  "kernelspec": {
   "display_name": "Python 3",
   "language": "python",
   "name": "python3"
  },
  "language_info": {
   "codemirror_mode": {
    "name": "ipython",
    "version": 3
   },
   "file_extension": ".py",
   "mimetype": "text/x-python",
   "name": "python",
   "nbconvert_exporter": "python",
   "pygments_lexer": "ipython3",
   "version": "3.7.1"
  }
 },
 "nbformat": 4,
 "nbformat_minor": 2
}
