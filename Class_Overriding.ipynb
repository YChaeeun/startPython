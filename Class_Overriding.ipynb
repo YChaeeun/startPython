{
 "cells": [
  {
   "cell_type": "markdown",
   "metadata": {},
   "source": [
    "# Overriding\n",
    "\n",
    "상속 관계에서 부모 클래스로부터 물려받은 메소드를 다시 구현하는 것"
   ]
  },
  {
   "cell_type": "code",
   "execution_count": 6,
   "metadata": {},
   "outputs": [],
   "source": [
    "class SuperClass :\n",
    "    def fun1(self) :\n",
    "        print('SuperClass의 메서드\\n')\n",
    "        \n",
    "class Sub1(SuperClass) :\n",
    "    pass\n",
    "\n",
    "class Sub2(SuperClass) :\n",
    "    # 오버라이딩\n",
    "    def fun1(self) :\n",
    "        print('Sub2의 메서드\\n')\n",
    "        \n",
    "    # 만약 부모 클래스의 메서드 fun1을 호출하고 싶다면\n",
    "    # super().fun1() 하면 돼\n",
    "    \n",
    "class Sub3(Sub2) :\n",
    "    def fun1(self) :\n",
    "        print('Sub3의 메서드')\n",
    "        \n",
    "        # 상속 받은 바로 위의 부모의 함수 호출\n",
    "        super().fun1()"
   ]
  },
  {
   "cell_type": "code",
   "execution_count": 7,
   "metadata": {},
   "outputs": [
    {
     "name": "stdout",
     "output_type": "stream",
     "text": [
      "SuperClass의 메서드\n",
      "\n",
      "Sub2의 메서드\n",
      "\n",
      "Sub3의 메서드\n",
      "Sub2의 메서드\n",
      "\n"
     ]
    }
   ],
   "source": [
    "s1 = Sub1()\n",
    "s2 = Sub2()\n",
    "s3 = Sub3()\n",
    "\n",
    "s1.fun1()\n",
    "s2.fun1()\n",
    "s3.fun1()"
   ]
  },
  {
   "cell_type": "markdown",
   "metadata": {},
   "source": [
    "# Object 의 메서드 오버라이딩 \n",
    "\n",
    "### __ __ 이렇게 되어있는 애들 ex. __init__\n",
    "\n",
    "\n",
    "파이썬의 모든 클래스는 단 하나의 클래스를 상속받을 수 있다.\n",
    "\n",
    "만약 상속받는 클래스를 명시하지 않는 다면 파이썬의 기본 클래스를 상속받는데\n",
    "\n",
    "이 클래스에 정의되어 있는 메서드를 오버라이딩 할 수 있다.\n",
    "\n",
    "이러한 메서드들을 매직 메서드 라고 부른다"
   ]
  },
  {
   "cell_type": "code",
   "execution_count": 8,
   "metadata": {},
   "outputs": [
    {
     "name": "stdout",
     "output_type": "stream",
     "text": [
      "__init__ 호출\n"
     ]
    }
   ],
   "source": [
    "class TestClass :\n",
    "    def __init__ (self) :\n",
    "        print('__init__ 호출')\n",
    "    \n",
    "    # 오버라이딩!! 출력하면 이제 init 이 아니라 new 가 생김\n",
    "    # new 는 거의 사용하지 않음 (객체를 생성하기 위해 클래스를 메모리로 올릴 때 사용되는 함수)\n",
    "    #def __new__ (cls) :\n",
    "    #    print('__new__ 호출')\n",
    "    \n",
    "    # 거의 안씀 (생성된 객체가 소멸될 때 호출, 메모리관리를 pvm이 알아서 하기 때문에 쓸일이 별로 없어)\n",
    "    def __del__(self) :\n",
    "        print('__del__ 출력')\n",
    "        \n",
    "t1 = TestClass()"
   ]
  },
  {
   "cell_type": "code",
   "execution_count": 14,
   "metadata": {},
   "outputs": [
    {
     "name": "stdout",
     "output_type": "stream",
     "text": [
      "Test3로 만든 객체입니다.\n",
      "Test3로 만든 객체입니다.\n"
     ]
    }
   ],
   "source": [
    "class TestClass2 :\n",
    "    def __str__(self) :\n",
    "        return 'Test3로 만든 객체입니다.'\n",
    "\n",
    "t100 = TestClass2()\n",
    "# 변수를 출력하게 되면, 객체가 가지고 있는 __str__함수를 호출하여 반환하는 문자열을 출력\n",
    "print(t100)\n",
    "\n",
    "\n",
    "# str 함수를 사용하면 객체의 __str__ 함수를 호출하여 반환하는 문자열을 최종 문자열로 하여 반환한다\n",
    "a1 = str(t100)\n",
    "print(a1)"
   ]
  },
  {
   "cell_type": "markdown",
   "metadata": {},
   "source": [
    "# 연산자 오버로딩\n",
    "\n",
    "연산자의 기능을 재정의하고, 객체의 값을 연산자를 통해서 구현하고 싶을 때 사용\n",
    "\n",
    "> 매직 메서드가 정리된 블로그 : https://ziwon.github.io/post/python_magic_methods/"
   ]
  },
  {
   "cell_type": "code",
   "execution_count": 10,
   "metadata": {},
   "outputs": [],
   "source": [
    "class TestClass3 :\n",
    "    def __init__(self, a1) :\n",
    "        self.string = a1\n",
    "    \n",
    "    # 객체로 + 연산을 했을 때 \n",
    "    def __add__(self, other):\n",
    "        return self.a1+other.a1\n",
    "    \n",
    "    # 객체로 - 연산을 했을 때\n",
    "    def __sub__(self, other) :\n",
    "        return self.a1 - other.a1"
   ]
  },
  {
   "cell_type": "code",
   "execution_count": 13,
   "metadata": {},
   "outputs": [
    {
     "data": {
      "text/plain": [
       "(110, -90)"
      ]
     },
     "execution_count": 13,
     "metadata": {},
     "output_type": "execute_result"
    }
   ],
   "source": [
    "t1 = TestClass3(10)\n",
    "t2 = TestClass3(100)\n",
    "\n",
    "result1 = t1 + t2\n",
    "result2 = t1 - t2\n",
    "\n",
    "result1, result2"
   ]
  }
 ],
 "metadata": {
  "kernelspec": {
   "display_name": "Python 3",
   "language": "python",
   "name": "python3"
  },
  "language_info": {
   "codemirror_mode": {
    "name": "ipython",
    "version": 3
   },
   "file_extension": ".py",
   "mimetype": "text/x-python",
   "name": "python",
   "nbconvert_exporter": "python",
   "pygments_lexer": "ipython3",
   "version": "3.7.1"
  }
 },
 "nbformat": 4,
 "nbformat_minor": 2
}
