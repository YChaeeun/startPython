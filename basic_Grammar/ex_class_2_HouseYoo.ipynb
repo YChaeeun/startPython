{
 "cells": [
  {
   "cell_type": "markdown",
   "metadata": {},
   "source": [
    "## 클래스 활용\n",
    "\n",
    "+ 클래스 상속\n",
    "+ 연산자 오버로딩"
   ]
  },
  {
   "cell_type": "code",
   "execution_count": 41,
   "metadata": {},
   "outputs": [],
   "source": [
    "class HouseYoo :\n",
    "    lastname = '유'\n",
    "    \n",
    "    @classmethod\n",
    "    def show_lastname(cls) :\n",
    "        print(f'성은 \"{cls.lastname}\"입니다')\n",
    "    \n",
    "    \n",
    "    def __init__(self, name) :\n",
    "        self.fullname = self.lastname + name\n",
    "        \n",
    "    def tukk(self, when) :\n",
    "        print(f'{self.fullname}은 {when}에 떡볶이를 먹으러 간다')\n",
    "        \n",
    "    def like(self, food) :\n",
    "        print(f'{self.fullname}은 {food}를 좋아한다')\n",
    "        \n",
    "    def friend(self, other) :\n",
    "        print(f'{self.fullname}과 {other.fullname}은 서로 친구다')\n",
    "        \n",
    "    # 연산자 오버로딩\n",
    "    def __add__(self, other) :\n",
    "        print(f'{self.fullname}과 {other.fullname}은 만나기로 약속했다')\n",
    "        \n",
    "    def __sub__(self,other) :\n",
    "        print(f'{self.fullname}과 {other.fullname}은 각자 알아서 다른 걸 먹기로 했다')"
   ]
  },
  {
   "cell_type": "code",
   "execution_count": 42,
   "metadata": {},
   "outputs": [],
   "source": [
    "# 클래스 상속\n",
    "class HouseKim(HouseYoo) :\n",
    "    lastname = '김'\n",
    "    \n",
    "    def noodle(self,when) :\n",
    "        print(f'{self.fullname}은 {when}에 쌀국수를 먹으러 간다')"
   ]
  },
  {
   "cell_type": "code",
   "execution_count": 39,
   "metadata": {},
   "outputs": [
    {
     "data": {
      "text/plain": [
       "'유'"
      ]
     },
     "execution_count": 39,
     "metadata": {},
     "output_type": "execute_result"
    }
   ],
   "source": [
    "# 클래스 변수\n",
    "HouseYoo.lastname"
   ]
  },
  {
   "cell_type": "code",
   "execution_count": 44,
   "metadata": {},
   "outputs": [
    {
     "name": "stdout",
     "output_type": "stream",
     "text": [
      "성은 \"유\"입니다\n",
      "성은 \"김\"입니다\n"
     ]
    }
   ],
   "source": [
    "# 클래스 메소드\n",
    "HouseYoo.show_lastname()\n",
    "HouseKim.show_lastname()"
   ]
  },
  {
   "cell_type": "code",
   "execution_count": 27,
   "metadata": {},
   "outputs": [
    {
     "data": {
      "text/plain": [
       "('유채은', '김빵빵')"
      ]
     },
     "execution_count": 27,
     "metadata": {},
     "output_type": "execute_result"
    }
   ],
   "source": [
    "y1 = HouseYoo('채은')\n",
    "k1 = HouseKim('빵빵')\n",
    "\n",
    "y1.fullname, k1.fullname"
   ]
  },
  {
   "cell_type": "code",
   "execution_count": 28,
   "metadata": {},
   "outputs": [
    {
     "name": "stdout",
     "output_type": "stream",
     "text": [
      "유채은은 떡볶이를 좋아한다\n",
      "김빵빵은 쌀국수를 좋아한다\n"
     ]
    }
   ],
   "source": [
    "y1.like('떡볶이')\n",
    "k1.like('쌀국수')"
   ]
  },
  {
   "cell_type": "code",
   "execution_count": 29,
   "metadata": {},
   "outputs": [
    {
     "name": "stdout",
     "output_type": "stream",
     "text": [
      "유채은과 김빵빵은 서로 친구다\n"
     ]
    }
   ],
   "source": [
    "y1.friend(k1)"
   ]
  },
  {
   "cell_type": "code",
   "execution_count": 30,
   "metadata": {},
   "outputs": [
    {
     "name": "stdout",
     "output_type": "stream",
     "text": [
      "유채은과 김빵빵은 만나기로 약속했다\n"
     ]
    }
   ],
   "source": [
    "y1+k1"
   ]
  },
  {
   "cell_type": "code",
   "execution_count": 31,
   "metadata": {},
   "outputs": [
    {
     "name": "stdout",
     "output_type": "stream",
     "text": [
      "유채은과 김빵빵은 각자 알아서 다른 걸 먹기로 했다\n"
     ]
    }
   ],
   "source": [
    "y1-k1"
   ]
  },
  {
   "cell_type": "code",
   "execution_count": 32,
   "metadata": {},
   "outputs": [
    {
     "name": "stdout",
     "output_type": "stream",
     "text": [
      "유채은은 1시에 떡볶이를 먹으러 간다\n"
     ]
    }
   ],
   "source": [
    "y1.tukk('1시')"
   ]
  },
  {
   "cell_type": "code",
   "execution_count": 33,
   "metadata": {},
   "outputs": [
    {
     "name": "stdout",
     "output_type": "stream",
     "text": [
      "김빵빵은 2시에 쌀국수를 먹으러 간다\n"
     ]
    }
   ],
   "source": [
    "k1.noodle('2시')"
   ]
  }
 ],
 "metadata": {
  "kernelspec": {
   "display_name": "Python 3",
   "language": "python",
   "name": "python3"
  },
  "language_info": {
   "codemirror_mode": {
    "name": "ipython",
    "version": 3
   },
   "file_extension": ".py",
   "mimetype": "text/x-python",
   "name": "python",
   "nbconvert_exporter": "python",
   "pygments_lexer": "ipython3",
   "version": "3.7.1"
  }
 },
 "nbformat": 4,
 "nbformat_minor": 2
}
