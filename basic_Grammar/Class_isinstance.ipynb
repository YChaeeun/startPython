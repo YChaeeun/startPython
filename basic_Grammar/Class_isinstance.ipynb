{
 "cells": [
  {
   "cell_type": "markdown",
   "metadata": {},
   "source": [
    "# isinstance()\n",
    "\n",
    "주어진 객체의 타입을 검사할 때 사용하는 함수 (True, False 반환)\n",
    "\n",
    "> isinstance(객체, 클래스타입) : 이 객체가 이 타입이니...???\n",
    "\n",
    "단순히 타입을 알고 싶을 때는 type을 쓰면 되지만, 코드상 필요할 때는 isinstance를 쓴다!"
   ]
  },
  {
   "cell_type": "markdown",
   "metadata": {},
   "source": [
    "### type() 함수\n",
    "\n",
    "+ type() 함수를 통해 객체를 만들 때 사용한 클래스의 이름을 가져올 수 있다\n",
    "+ 단, 상속받은 클래스의 이름들을 다 알수는 없음!"
   ]
  },
  {
   "cell_type": "code",
   "execution_count": 3,
   "metadata": {},
   "outputs": [
    {
     "name": "stdout",
     "output_type": "stream",
     "text": [
      "<class '__main__.TestClass1'>\n",
      "<class '__main__.TestClass2'>\n"
     ]
    }
   ],
   "source": [
    "class TestClass1 :\n",
    "    pass\n",
    "\n",
    "class TestClass2 :\n",
    "    pass\n",
    "\n",
    "t1 = TestClass1()\n",
    "t2 = TestClass2()\n",
    "\n",
    "print(type(t1))\n",
    "print(f'{type(t2)}')"
   ]
  },
  {
   "cell_type": "code",
   "execution_count": 4,
   "metadata": {},
   "outputs": [
    {
     "name": "stdout",
     "output_type": "stream",
     "text": [
      "정수 : <class 'int'>\n",
      "실수 : <class 'float'>\n",
      "불리언 : <class 'bool'>\n",
      "문자열 : <class 'str'>\n",
      "리스트 : <class 'list'>\n",
      "튜플 : <class 'tuple'>\n",
      "딕셔너리 : <class 'dict'>\n",
      "집합 : <class 'set'>\n",
      "함수 : <class 'function'>\n"
     ]
    }
   ],
   "source": [
    "# 다들 클래스를 가지고 객체로 관리되고 있음을 알 수 있다!!!!\n",
    "# 그래서 파이썬에서는 타입을 정할 필요가 없는것... 다들 객체이기 때문에 (!!)\n",
    "\n",
    "print(f\"정수 : {type(100)}\")\n",
    "print(f\"실수 : {type(11.11)}\")\n",
    "print(f\"불리언 : {type(True)}\")\n",
    "print(f\"문자열 : {type('안녕')}\")\n",
    "print(f\"리스트 : {type([1,2,3])}\")\n",
    "print(f\"튜플 : {type((1,2,3,100))}\")\n",
    "print(f\"딕셔너리 : {type({'1':1, '2':2})}\")\n",
    "print(f\"집합 : {type({1,2})}\")\n",
    "            \n",
    "def func1() :\n",
    "    pass\n",
    "              \n",
    "print(f\"함수 : {type(func1)}\")"
   ]
  },
  {
   "cell_type": "markdown",
   "metadata": {},
   "source": [
    "### isinstance()\n",
    "\n",
    "+ isinstance(객체, 클래스타입) : 이 객체가 이 타입이니...???"
   ]
  },
  {
   "cell_type": "code",
   "execution_count": 6,
   "metadata": {},
   "outputs": [
    {
     "name": "stdout",
     "output_type": "stream",
     "text": [
      "10은 int로 만든 객체입니다.\n",
      "11.11은 float로 만든 객체입니다.\n",
      "t3은 TestClass1로 만든 객체입니다.\n"
     ]
    }
   ],
   "source": [
    "if isinstance(10, int) :\n",
    "    print('10은 int로 만든 객체입니다.')\n",
    "\n",
    "if isinstance(11.11, float) :\n",
    "    print('11.11은 float로 만든 객체입니다.')\n",
    "    \n",
    "t3 = TestClass1()\n",
    "if isinstance(t3, TestClass1):\n",
    "    print('t3은 TestClass1로 만든 객체입니다.')"
   ]
  },
  {
   "cell_type": "code",
   "execution_count": 7,
   "metadata": {},
   "outputs": [
    {
     "name": "stdout",
     "output_type": "stream",
     "text": [
      "정수값이 들어오면 처리\n",
      "안녕는 정수가 아닙니다.\n"
     ]
    }
   ],
   "source": [
    "# 정수값이 들어왔을 때 처리하는 함수\n",
    "def test_fun(value) :\n",
    "    if isinstance(value, int) == False:\n",
    "        print(f'{value}는 정수가 아닙니다.')\n",
    "        return\n",
    "    print('정수값이 들어오면 처리')\n",
    "    \n",
    "test_fun(10)\n",
    "test_fun('안녕')\n",
    "    \n",
    "# 만약 input 으로 사용자입력을 받을 때는 무조건 string 형태로 받기 때문에\n",
    "# 정수인지 아닌지 판단하려면 isdecimal, isalnum 같은 문자열 함수로 판단해야 해"
   ]
  },
  {
   "cell_type": "markdown",
   "metadata": {},
   "source": [
    "### 상속 관계에서의 isinstance()\n",
    "\n",
    "+ 이 객체가 이 클래스를 가지고 만든 것인지? 클래스의 일부가 있는지? 판단하기"
   ]
  },
  {
   "cell_type": "code",
   "execution_count": 8,
   "metadata": {},
   "outputs": [],
   "source": [
    "class SuperClass :\n",
    "    def super_method(self) :\n",
    "        print('SuperClass의 메서드')\n",
    "\n",
    "class SubClass(SuperClass) :\n",
    "    pass\n",
    "\n",
    "class TestClass :\n",
    "    pass\n",
    "\n",
    "sub1 = SubClass()"
   ]
  },
  {
   "cell_type": "code",
   "execution_count": 15,
   "metadata": {},
   "outputs": [
    {
     "data": {
      "text/plain": [
       "(True, True, False)"
      ]
     },
     "execution_count": 15,
     "metadata": {},
     "output_type": "execute_result"
    }
   ],
   "source": [
    "# sub1은 SubClass를 가지고 만들었나?\n",
    "a1 = isinstance(sub1, SubClass)\n",
    "\n",
    "# sub1은 SuperClass를 가지고 만들었거나, SuperClass의 부분이 있나?\n",
    "b1 = isinstance(sub1, SuperClass)\n",
    "\n",
    "# sub1은 TestClass를 가지고 만들었거나, testClass의 부분이 있나?\n",
    "c1 = isinstance(sub1, TestClass)\n",
    "\n",
    "a1, b1, c1"
   ]
  },
  {
   "cell_type": "code",
   "execution_count": 13,
   "metadata": {},
   "outputs": [
    {
     "name": "stdout",
     "output_type": "stream",
     "text": [
      "SuperClass의 메서드\n"
     ]
    }
   ],
   "source": [
    "sub1 = SubClass()\n",
    "test1 = TestClass()\n",
    "\n",
    "# 클래스 타입을 검사하고 호출하기\n",
    "def test_fun(obj) :\n",
    "    if isinstance(obj, SuperClass) :\n",
    "        obj.super_method()\n",
    "\n",
    "test_fun(sub1)\n",
    "\n",
    "test_fun(test1) # if에 걸리지 않아서 test1 로는 함수 호출 불가능"
   ]
  }
 ],
 "metadata": {
  "kernelspec": {
   "display_name": "Python 3",
   "language": "python",
   "name": "python3"
  },
  "language_info": {
   "codemirror_mode": {
    "name": "ipython",
    "version": 3
   },
   "file_extension": ".py",
   "mimetype": "text/x-python",
   "name": "python",
   "nbconvert_exporter": "python",
   "pygments_lexer": "ipython3",
   "version": "3.7.1"
  }
 },
 "nbformat": 4,
 "nbformat_minor": 2
}
