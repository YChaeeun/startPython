{
 "cells": [
  {
   "cell_type": "markdown",
   "metadata": {},
   "source": [
    "# ClassMember\n",
    "\n",
    "> 객체를 생성하지 않아도 사용가능한 변수\n",
    ">\n",
    "> 프로젝트 전체에 딱 하나만 존재하는 값!!\n",
    "\n",
    "\n",
    "+ 같은 클래스로 만들어지는 객체들이 모두 동일한 값을 사용해야 하는 경우\n",
    "\n",
    "\n",
    "+ 객체의 멤버의 값을 동일하게 줄 경우, 각 객체들은 직접 멤버를 가지고 있는 것이 아니고, 클래스 변수에서 참조하는 것이다. \n",
    "    -  (객체 안에서 새롭게 멤버 변수로 세팅 가능)\n"
   ]
  },
  {
   "cell_type": "markdown",
   "metadata": {},
   "source": [
    "## 변수\n",
    "\n",
    "1. 클래스 변수 : 프로그램 전체에서 딱 하나만 존재해야 할 때\n",
    "2. 멤버 변수 : 객체마다 따로 관리되어야 하는 값일 때"
   ]
  },
  {
   "cell_type": "markdown",
   "metadata": {},
   "source": [
    "## 메서드\n",
    "\n",
    "1. 클래스 메서드\n",
    "    + 클래스 변수, 매개변수, 지역변수만 사용하는 코드가 있을 경우에 사용\n",
    "    + 객체 생성을 하는 코드를 적을 필요가 없기 때문에 편리\n",
    "    + 그래서 정보 관리용 메서드를 제외하고는 거의 다 클래스 메서드\n",
    "    \n",
    "    \n",
    "2. 멤버 메서드 (self)\n",
    "    + 클래스 변수, 매개 변수, 지역 변수 뿐만 아니라 객체의 멤버 변수까지 모두 사용하는 코드일 경우\n",
    "    + 정보 관리 용\n",
    "    \n",
    "- - -"
   ]
  },
  {
   "cell_type": "markdown",
   "metadata": {},
   "source": [
    "### 클래스 변수\n",
    "\n",
    "클래스가 메모리에 올라갈 때, 같이 클래스 변수를 위한 기억장소가 만들어 진다.<br/> (객체 생성 전에)"
   ]
  },
  {
   "cell_type": "code",
   "execution_count": 2,
   "metadata": {},
   "outputs": [
    {
     "name": "stdout",
     "output_type": "stream",
     "text": [
      "100\n",
      "100\n"
     ]
    }
   ],
   "source": [
    "class TestClass :\n",
    "    a1 = 100\n",
    "    \n",
    "# 클래스 변수 a1\n",
    "# 클래스가 메모리에 올라갈 때, 기억장소가 같이 만들어 진다. \n",
    "# (즉, 객체 생성 전에도 사용 가능)\n",
    "# 객체가 많이 생기든말든 얘는 딱 하나만 존재\n",
    "    \n",
    "t1 = TestClass()\n",
    "t2 = TestClass()\n",
    "\n",
    "# 생성된 객체에는 a1 이라는 멤버 변수가 없기 때문에 클래스 변수 a1 에 접근한다\n",
    "print(t1.a1)\n",
    "\n",
    "# ClassMember 클래스 변수 _ 딱 하나만 존재\n",
    "print(TestClass.a1)"
   ]
  },
  {
   "cell_type": "code",
   "execution_count": 3,
   "metadata": {},
   "outputs": [
    {
     "name": "stdout",
     "output_type": "stream",
     "text": [
      "20\n"
     ]
    }
   ],
   "source": [
    "# 동일한 이름으로 멤버 변수를 추가할 수 있음\n",
    "# 언제나 객체 자기 자신이 우선이기 때문에 이런 경우에는 자기 변수 a1을 출력\n",
    "t1.a1 = 20\n",
    "\n",
    "print(t1.a1)"
   ]
  },
  {
   "cell_type": "markdown",
   "metadata": {},
   "source": [
    "### 클래스 메서드\n",
    "\n",
    "+ 클래스 변수, 매개변수, 지역변수만 사용하는 코드가 있을 경우에 사용\n",
    "\n",
    "\n",
    "+ 단, __멤버 변수__는 사용할 수 없음!\n",
    "> 멤버 변수는 객체가 생성되어야 만들어지는 데 <br/>\n",
    "> 클래스 메서드가 사용될 당시에 해당 멤버 변수를 가지고 있는 객체가 생성되었다는 보장이 없기 때문에 사용이 불가!!\n",
    "\n",
    "\n",
    "+ 추가) static 메서드\n",
    "    - 클래스 메서드와 거의 동일\n",
    "    - 클래스 변수에 접근 가능하고, 멤버 변수는 사용 불가"
   ]
  },
  {
   "cell_type": "code",
   "execution_count": 7,
   "metadata": {},
   "outputs": [],
   "source": [
    "class TestClass2 :\n",
    "    # 클래스 변수\n",
    "    a1 = 100\n",
    "    \n",
    "    def __init__(self) :\n",
    "        # 멤버 변수\n",
    "        self.a2 = 200\n",
    "        \n",
    "    # 멤버 메서드\n",
    "    def method1(self) :\n",
    "        print('메서드1')\n",
    "        print(self.a1)      # 멤버변수 a1 이 없다면 클래스 변수 a1 을 사용\n",
    "        print(self.a2)      # 객체가 가지고 있는 멤버 변수 a2 사용\n",
    "        \n",
    "    def method2(self):\n",
    "        pass\n",
    "    \n",
    "    # 클래스 메서드\n",
    "    @classmethod\n",
    "    def method2(cls) :\n",
    "        print('메서드2')\n",
    "        print(f'cls a1 : {cls.a1}')\n",
    "        \n",
    "    \n",
    "    # static 메서드\n",
    "    @staticmethod\n",
    "    def method3() :\n",
    "        print('메서드3')\n",
    "        print(TestClass.a1)"
   ]
  },
  {
   "cell_type": "code",
   "execution_count": 8,
   "metadata": {},
   "outputs": [
    {
     "ename": "TypeError",
     "evalue": "method1() missing 1 required positional argument: 'self'",
     "output_type": "error",
     "traceback": [
      "\u001b[1;31m---------------------------------------------------------------------------\u001b[0m",
      "\u001b[1;31mTypeError\u001b[0m                                 Traceback (most recent call last)",
      "\u001b[1;32m<ipython-input-8-b6b29a5145e1>\u001b[0m in \u001b[0;36m<module>\u001b[1;34m\u001b[0m\n\u001b[0;32m      1\u001b[0m \u001b[1;31m# 멤버 함수는 self값을 전달해줄 객체를 생성해야지만 사용이 가능하므로,\u001b[0m\u001b[1;33m\u001b[0m\u001b[1;33m\u001b[0m\u001b[1;33m\u001b[0m\u001b[0m\n\u001b[0;32m      2\u001b[0m \u001b[1;31m# 에러가 발생한다.\u001b[0m\u001b[1;33m\u001b[0m\u001b[1;33m\u001b[0m\u001b[1;33m\u001b[0m\u001b[0m\n\u001b[1;32m----> 3\u001b[1;33m \u001b[0mTestClass2\u001b[0m\u001b[1;33m.\u001b[0m\u001b[0mmethod1\u001b[0m\u001b[1;33m(\u001b[0m\u001b[1;33m)\u001b[0m\u001b[1;33m\u001b[0m\u001b[1;33m\u001b[0m\u001b[0m\n\u001b[0m",
      "\u001b[1;31mTypeError\u001b[0m: method1() missing 1 required positional argument: 'self'"
     ]
    }
   ],
   "source": [
    "# 멤버 함수는 self값을 전달해줄 객체를 생성해야지만 사용이 가능하므로,\n",
    "# 에러가 발생한다.\n",
    "TestClass2.method1()"
   ]
  },
  {
   "cell_type": "code",
   "execution_count": 11,
   "metadata": {},
   "outputs": [
    {
     "name": "stdout",
     "output_type": "stream",
     "text": [
      "메서드1\n",
      "100\n",
      "200\n"
     ]
    }
   ],
   "source": [
    "# 멤버 변수를 사용하는 함수는 객체를 생성해야 사용 가능!\n",
    "t1 = TestClass2()\n",
    "t1.method1()"
   ]
  },
  {
   "cell_type": "code",
   "execution_count": 9,
   "metadata": {},
   "outputs": [
    {
     "name": "stdout",
     "output_type": "stream",
     "text": [
      "메서드2\n",
      "cls a1 : 100\n"
     ]
    }
   ],
   "source": [
    "# 클래스 메서드는 객체 생성 없이도 사용 가능\n",
    "TestClass2.method2()"
   ]
  },
  {
   "cell_type": "code",
   "execution_count": 10,
   "metadata": {},
   "outputs": [
    {
     "name": "stdout",
     "output_type": "stream",
     "text": [
      "메서드3\n",
      "100\n"
     ]
    }
   ],
   "source": [
    "# static 메서드도 객체 생성 없이도 사용 가능\n",
    "TestClass2.method3()"
   ]
  }
 ],
 "metadata": {
  "kernelspec": {
   "display_name": "Python 3",
   "language": "python",
   "name": "python3"
  },
  "language_info": {
   "codemirror_mode": {
    "name": "ipython",
    "version": 3
   },
   "file_extension": ".py",
   "mimetype": "text/x-python",
   "name": "python",
   "nbconvert_exporter": "python",
   "pygments_lexer": "ipython3",
   "version": "3.7.1"
  }
 },
 "nbformat": 4,
 "nbformat_minor": 2
}
